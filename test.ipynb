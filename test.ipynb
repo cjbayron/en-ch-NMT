{
 "cells": [
  {
   "cell_type": "code",
   "execution_count": 1,
   "metadata": {},
   "outputs": [
    {
     "name": "stdout",
     "output_type": "stream",
     "text": [
      "INFO: Pandarallel will run on 8 workers.\n",
      "INFO: Pandarallel will use Memory file system to transfer data between the main process and workers.\n"
     ]
    }
   ],
   "source": [
    "import os\n",
    "import torch\n",
    "#os.environ[\"CUDA_VISIBLE_DEVICES\"]=\"\"\n",
    "import sentencepiece as spm\n",
    "\n",
    "from model import GeneratorSelfAttention\n",
    "from torchUtils import get_model, get_tensor_data\n",
    "from pandarallel import pandarallel\n",
    "\n",
    "pandarallel.initialize(progress_bar=True)"
   ]
  },
  {
   "cell_type": "code",
   "execution_count": 2,
   "metadata": {},
   "outputs": [
    {
     "name": "stdout",
     "output_type": "stream",
     "text": [
      "build done\n",
      "model loaded\n"
     ]
    }
   ],
   "source": [
    "n_embedding = 512\n",
    "n_hidden = 512\n",
    "n_layer = 8\n",
    "batch_size = 32\n",
    "\n",
    "sp = spm.SentencePieceProcessor()\n",
    "sp.load('total.uni.35000.model')\n",
    "model = GeneratorSelfAttention(sp.GetPieceSize(), n_embedding, n_hidden, n_layer)\n",
    "print('build done')\n",
    "model.load_state_dict(\n",
    "    get_model('model/model.trans.{}.{}.th'.format(n_hidden, n_layer)))\n",
    "model.cuda()\n",
    "model.eval()\n",
    "#model.share_memory()\n",
    "print('model loaded')\n",
    "\n"
   ]
  },
  {
   "cell_type": "code",
   "execution_count": 54,
   "metadata": {},
   "outputs": [],
   "source": [
    "\n",
    "def trim(prediction):\n",
    "    if sp.GetPieceSize() + 1 in prediction:\n",
    "        end = prediction.index(sp.GetPieceSize() + 1)\n",
    "    elif 0 in prediction:\n",
    "        end = prediction.index(0)\n",
    "    else:\n",
    "        end = len(prediction)\n",
    "    prediction = prediction[0:end]\n",
    "    return prediction\n",
    "\n",
    "\n",
    "def translate(sequence):\n",
    "    sequence = sequence.strip()\n",
    "    ids = sp.EncodeAsIds(sequence)\n",
    "    inputs = [None, torch.LongTensor([ids[0:100]]).cuda()] #.cuda()\n",
    "    with torch.no_grad():\n",
    "        prediction = model(inputs)\n",
    "    output = get_tensor_data(prediction)\n",
    "    prediction = trim(output[0].tolist())\n",
    "    return sp.DecodeIds(prediction)\n",
    "\n",
    "def translate_multi(seq_list):\n",
    "    batch_ids = [sp.EncodeAsIds(seq.strip())[0:100] for seq in seq_list]\n",
    "    #print(batch_ids)\n",
    "    inps = torch.LongTensor(batch_ids).cuda()\n",
    "    #print(input.shape)\n",
    "    inputs = [None, inps]\n",
    "    with torch.no_grad():\n",
    "        prediction = model(inputs)\n",
    "        \n",
    "    batch_output = get_tensor_data(prediction)\n",
    "    pred_texts = [sp.DecodeIds(trim(output.tolist())) for output in batch_output]\n",
    "    return pred_texts"
   ]
  },
  {
   "cell_type": "code",
   "execution_count": 4,
   "metadata": {},
   "outputs": [
    {
     "ename": "NameError",
     "evalue": "name 'inputs' is not defined",
     "output_type": "error",
     "traceback": [
      "\u001b[0;31m---------------------------------------------------------------------------\u001b[0m",
      "\u001b[0;31mNameError\u001b[0m                                 Traceback (most recent call last)",
      "\u001b[0;32m<ipython-input-4-e45963aea6f1>\u001b[0m in \u001b[0;36m<module>\u001b[0;34m\u001b[0m\n\u001b[1;32m      2\u001b[0m \u001b[0;31m# inputs = [None, torch.LongTensor([ids[0:100]]).cuda()]\u001b[0m\u001b[0;34m\u001b[0m\u001b[0;34m\u001b[0m\u001b[0;34m\u001b[0m\u001b[0m\n\u001b[1;32m      3\u001b[0m \u001b[0;32mwith\u001b[0m \u001b[0mtorch\u001b[0m\u001b[0;34m.\u001b[0m\u001b[0mno_grad\u001b[0m\u001b[0;34m(\u001b[0m\u001b[0;34m)\u001b[0m\u001b[0;34m:\u001b[0m\u001b[0;34m\u001b[0m\u001b[0;34m\u001b[0m\u001b[0m\n\u001b[0;32m----> 4\u001b[0;31m     \u001b[0mprediction\u001b[0m \u001b[0;34m=\u001b[0m \u001b[0mmodel\u001b[0m\u001b[0;34m(\u001b[0m\u001b[0minputs\u001b[0m\u001b[0;34m)\u001b[0m\u001b[0;34m\u001b[0m\u001b[0;34m\u001b[0m\u001b[0m\n\u001b[0m",
      "\u001b[0;31mNameError\u001b[0m: name 'inputs' is not defined"
     ]
    }
   ],
   "source": [
    "# ids = sp.EncodeAsIds('测试')\n",
    "# inputs = [None, torch.LongTensor([ids[0:100]]).cuda()]\n",
    "with torch.no_grad():\n",
    "    prediction = model(inputs)"
   ]
  },
  {
   "cell_type": "code",
   "execution_count": null,
   "metadata": {},
   "outputs": [],
   "source": [
    "torch.LongTensor([ids[0:100]]).shape"
   ]
  },
  {
   "cell_type": "code",
   "execution_count": 246,
   "metadata": {},
   "outputs": [],
   "source": [
    "inputs = [None, torch.LongTensor([ids[0:100], ids[0:100]]).cuda()]"
   ]
  },
  {
   "cell_type": "code",
   "execution_count": 254,
   "metadata": {},
   "outputs": [
    {
     "data": {
      "text/plain": [
       "[12765, 11]"
      ]
     },
     "execution_count": 254,
     "metadata": {},
     "output_type": "execute_result"
    }
   ],
   "source": [
    "# print(prediction.shape) # (1, 70)\n",
    "# output = get_tensor_data(prediction)\n",
    "# print(output.shape) # (1,70)\n",
    "\n",
    "trim(output[0].tolist())\n",
    "trim(output[1].tolist())"
   ]
  },
  {
   "cell_type": "code",
   "execution_count": 5,
   "metadata": {},
   "outputs": [],
   "source": [
    "import pandas as pd\n",
    "\n",
    "# df_en = pd.read_csv('train_en.csv', encoding ='utf-8')\n",
    "# df_tcn = pd.read_csv('train_tcn.csv', encoding ='utf-8')\n",
    "df_test = pd.read_csv('test_tcn.csv', encoding ='utf-8')\n",
    "\n",
    "df_para_en = pd.read_csv('dev_en.csv', encoding ='utf-8')\n",
    "df_para_tcn = pd.read_csv('dev_tcn.csv', encoding ='utf-8')"
   ]
  },
  {
   "cell_type": "code",
   "execution_count": 6,
   "metadata": {},
   "outputs": [],
   "source": [
    "import re\n",
    "import regex\n",
    "import opencc\n",
    "import jieba\n",
    "s2t_conv = opencc.OpenCC('s2t.json')\n",
    "\n",
    "def s2t(s):\n",
    "    return s2t_conv.convert(s)\n",
    "\n",
    "t2s_conv = opencc.OpenCC('t2s.json')\n",
    "\n",
    "def t2s(s):\n",
    "    return t2s_conv.convert(s)\n",
    "\n",
    "re.Pattern = regex.compile(r'\\p{So}')\n",
    "\n",
    "\n",
    "from nltk import word_tokenize"
   ]
  },
  {
   "cell_type": "code",
   "execution_count": 7,
   "metadata": {},
   "outputs": [],
   "source": [
    "def preproc_tcn(text):\n",
    "    clean = re.Pattern.sub(' ', text)\n",
    "#     return s2t_conv.convert(clean)\n",
    "    return clean\n",
    "\n",
    "def preproc_en(text):\n",
    "    return re.Pattern.sub(' ', text)\n",
    "\n",
    "def preproc_tcn2(text):\n",
    "    clean = re.Pattern.sub(' ', text)\n",
    "    return t2s_conv.convert(clean)"
   ]
  },
  {
   "cell_type": "code",
   "execution_count": 10,
   "metadata": {},
   "outputs": [
    {
     "name": "stdout",
     "output_type": "stream",
     "text": [
      "Index(['text', 'split'], dtype='object') Index(['translation_output'], dtype='object')\n"
     ]
    }
   ],
   "source": [
    "print(df_para_tcn.columns, df_para_en.columns)"
   ]
  },
  {
   "cell_type": "code",
   "execution_count": 8,
   "metadata": {},
   "outputs": [],
   "source": [
    "df_para_tcn['clean'] = df_para_tcn.apply(lambda x: preproc_tcn(x.text), axis=1)\n",
    "# df_para_tcn['clean2'] = df_para_tcn.apply(lambda x: preproc_tcn2(x.text), axis=1)\n",
    "df_para_en['clean'] = df_para_en.apply(lambda x: preproc_en(x.translation_output), axis=1)"
   ]
  },
  {
   "cell_type": "code",
   "execution_count": 65,
   "metadata": {},
   "outputs": [],
   "source": [
    "df_test['clean'] = df_test.apply(lambda x: preproc_tcn(x.text), axis=1)"
   ]
  },
  {
   "cell_type": "code",
   "execution_count": 66,
   "metadata": {},
   "outputs": [
    {
     "data": {
      "text/plain": [
       "False"
      ]
     },
     "execution_count": 66,
     "metadata": {},
     "output_type": "execute_result"
    }
   ],
   "source": [
    "df_test.clean.isnull().any()"
   ]
  },
  {
   "cell_type": "code",
   "execution_count": 32,
   "metadata": {},
   "outputs": [
    {
     "data": {
      "text/html": [
       "<div>\n",
       "<style scoped>\n",
       "    .dataframe tbody tr th:only-of-type {\n",
       "        vertical-align: middle;\n",
       "    }\n",
       "\n",
       "    .dataframe tbody tr th {\n",
       "        vertical-align: top;\n",
       "    }\n",
       "\n",
       "    .dataframe thead th {\n",
       "        text-align: right;\n",
       "    }\n",
       "</style>\n",
       "<table border=\"1\" class=\"dataframe\">\n",
       "  <thead>\n",
       "    <tr style=\"text-align: right;\">\n",
       "      <th></th>\n",
       "      <th>clean</th>\n",
       "      <th>clean2</th>\n",
       "    </tr>\n",
       "  </thead>\n",
       "  <tbody>\n",
       "    <tr>\n",
       "      <th>1</th>\n",
       "      <td>SOFT 99 鍍膜車蠟(強力撥水型)</td>\n",
       "      <td>SOFT 99 镀膜车蜡(强力拨水型)</td>\n",
       "    </tr>\n",
       "    <tr>\n",
       "      <th>2</th>\n",
       "      <td>低糖芒果乾 250g 臻御行</td>\n",
       "      <td>低糖芒果干 250g 臻御行</td>\n",
       "    </tr>\n",
       "    <tr>\n",
       "      <th>3</th>\n",
       "      <td>＊小徑文化＊日本進口ROUND TOP space craft - diamond (SC-...</td>\n",
       "      <td>＊小径文化＊日本进口ROUND TOP space craft - diamond (SC-...</td>\n",
       "    </tr>\n",
       "    <tr>\n",
       "      <th>4</th>\n",
       "      <td>Hello Kitty 凱蒂貓 KITTY 涼鞋 童鞋 白/紅色 小童 no739</td>\n",
       "      <td>Hello Kitty 凯蒂猫 KITTY 凉鞋 童鞋 白/红色 小童 no739</td>\n",
       "    </tr>\n",
       "    <tr>\n",
       "      <th>5</th>\n",
       "      <td>雷鳥 LT-234 日式木紋桌墊 45 x 60 cm / 片</td>\n",
       "      <td>雷鸟 LT-234 日式木纹桌垫 45 x 60 cm / 片</td>\n",
       "    </tr>\n",
       "    <tr>\n",
       "      <th>...</th>\n",
       "      <td>...</td>\n",
       "      <td>...</td>\n",
       "    </tr>\n",
       "    <tr>\n",
       "      <th>994</th>\n",
       "      <td>力大牌 ABEL 66189 A4橫式板夾(顏色隨機出貨) / 個</td>\n",
       "      <td>力大牌 ABEL 66189 A4横式板夹(颜色随机出货) / 个</td>\n",
       "    </tr>\n",
       "    <tr>\n",
       "      <th>995</th>\n",
       "      <td>【HippoRed】撕破樂趣 獨特風格 中直筒牛仔褲 O591_445</td>\n",
       "      <td>【HippoRed】撕破乐趣 独特风格 中直筒牛仔裤 O591_445</td>\n",
       "    </tr>\n",
       "    <tr>\n",
       "      <th>996</th>\n",
       "      <td>兒童套裝 臺灣製薄長袖居家套裝 魔法Baby~k60092</td>\n",
       "      <td>儿童套装 台湾制薄长袖居家套装 魔法Baby~k60092</td>\n",
       "    </tr>\n",
       "    <tr>\n",
       "      <th>997</th>\n",
       "      <td>LONGCHAMP Le Pliage Neo高密尼龍後揹包(中型)</td>\n",
       "      <td>LONGCHAMP Le Pliage Neo高密尼龙后背包(中型)</td>\n",
       "    </tr>\n",
       "    <tr>\n",
       "      <th>998</th>\n",
       "      <td>iFairies 開口可調節戒指 ifairies【56472】【56472】</td>\n",
       "      <td>iFairies 开口可调节戒指 ifairies【56472】【56472】</td>\n",
       "    </tr>\n",
       "  </tbody>\n",
       "</table>\n",
       "<p>885 rows × 2 columns</p>\n",
       "</div>"
      ],
      "text/plain": [
       "                                                 clean  \\\n",
       "1                                  SOFT 99 鍍膜車蠟(強力撥水型)   \n",
       "2                                       低糖芒果乾 250g 臻御行   \n",
       "3    ＊小徑文化＊日本進口ROUND TOP space craft - diamond (SC-...   \n",
       "4            Hello Kitty 凱蒂貓 KITTY 涼鞋 童鞋 白/紅色 小童 no739   \n",
       "5                      雷鳥 LT-234 日式木紋桌墊 45 x 60 cm / 片   \n",
       "..                                                 ...   \n",
       "994                  力大牌 ABEL 66189 A4橫式板夾(顏色隨機出貨) / 個   \n",
       "995                【HippoRed】撕破樂趣 獨特風格 中直筒牛仔褲 O591_445   \n",
       "996                      兒童套裝 臺灣製薄長袖居家套裝 魔法Baby~k60092   \n",
       "997                 LONGCHAMP Le Pliage Neo高密尼龍後揹包(中型)   \n",
       "998            iFairies 開口可調節戒指 ifairies【56472】【56472】   \n",
       "\n",
       "                                                clean2  \n",
       "1                                  SOFT 99 镀膜车蜡(强力拨水型)  \n",
       "2                                       低糖芒果干 250g 臻御行  \n",
       "3    ＊小径文化＊日本进口ROUND TOP space craft - diamond (SC-...  \n",
       "4            Hello Kitty 凯蒂猫 KITTY 凉鞋 童鞋 白/红色 小童 no739  \n",
       "5                      雷鸟 LT-234 日式木纹桌垫 45 x 60 cm / 片  \n",
       "..                                                 ...  \n",
       "994                  力大牌 ABEL 66189 A4横式板夹(颜色随机出货) / 个  \n",
       "995                【HippoRed】撕破乐趣 独特风格 中直筒牛仔裤 O591_445  \n",
       "996                      儿童套装 台湾制薄长袖居家套装 魔法Baby~k60092  \n",
       "997                 LONGCHAMP Le Pliage Neo高密尼龙后背包(中型)  \n",
       "998            iFairies 开口可调节戒指 ifairies【56472】【56472】  \n",
       "\n",
       "[885 rows x 2 columns]"
      ]
     },
     "execution_count": 32,
     "metadata": {},
     "output_type": "execute_result"
    }
   ],
   "source": [
    "df_para_tcn[df_para_tcn.clean2 != df_para_tcn.text][['clean', 'clean2']]"
   ]
  },
  {
   "cell_type": "code",
   "execution_count": 122,
   "metadata": {},
   "outputs": [
    {
     "data": {
      "text/plain": [
       "'LONGCHAMP Le Pliage Neo High Density Nylon Backpack (medium)'"
      ]
     },
     "execution_count": 122,
     "metadata": {},
     "output_type": "execute_result"
    }
   ],
   "source": [
    "df_para_en.clean.iloc[997]"
   ]
  },
  {
   "cell_type": "code",
   "execution_count": 123,
   "metadata": {},
   "outputs": [
    {
     "data": {
      "text/plain": [
       "['LONGCHAMP', 'Le', 'Pliage', 'Neo高密尼龍後背包', '(', '中型', ')']"
      ]
     },
     "execution_count": 123,
     "metadata": {},
     "output_type": "execute_result"
    }
   ],
   "source": [
    "word_tokenize(df_para_tcn.clean.iloc[997])"
   ]
  },
  {
   "cell_type": "code",
   "execution_count": 126,
   "metadata": {},
   "outputs": [
    {
     "name": "stdout",
     "output_type": "stream",
     "text": [
      "LONGCHAMP\n",
      "Le\n",
      "Pliage\n",
      "['Neo', '高密', '尼龍', '後', '背包']\n",
      "Neo高密尼龍後背包\n",
      "(\n",
      "中型\n",
      ")\n"
     ]
    }
   ],
   "source": [
    "sent = df_para_tcn.clean.iloc[997]\n",
    "\n",
    "sent = re.sub('】', '] ', sent)\n",
    "sent = re.sub('【', ' [', sent)\n",
    "\n",
    "for w in word_tokenize(sent):\n",
    "    if re.search(u'[\\u4e00-\\u9fff]', w):\n",
    "        #print(translate(w))\n",
    "        #print(translate(t2s_conv.convert(w)))\n",
    "        if re.search(u'[^\\u4e00-\\u9fff]', w):\n",
    "#         w = translate(s2t_conv.convert(w))\n",
    "            for xw in jieba.cut()\n",
    "#         print(w)\n",
    "\n",
    "    print(w)"
   ]
  },
  {
   "cell_type": "code",
   "execution_count": 160,
   "metadata": {},
   "outputs": [
    {
     "data": {
      "text/plain": [
       "'* the culture Japan Imported Round Top Space Craft - Diamond SC - MK - 010'"
      ]
     },
     "execution_count": 160,
     "metadata": {},
     "output_type": "execute_result"
    }
   ],
   "source": [
    "df_para_en.clean.iloc[3]"
   ]
  },
  {
   "cell_type": "code",
   "execution_count": 83,
   "metadata": {},
   "outputs": [],
   "source": [
    "# global_cnt = 0\n",
    "\n",
    "TRANS_MAP = {\n",
    "    # size: {word: [(sent_index, word_index), ]}\n",
    "}\n",
    "\n",
    "def apply_translate(text_tcn, sent_index, ch_buffer_limit=2):\n",
    "    t2s_conv = opencc.OpenCC('t2s.json')\n",
    "    ch_string = '' # chinese string buffer\n",
    "    en_words = []\n",
    "    for w in jieba.cut(text_tcn):\n",
    "        w = w.strip()\n",
    "        if len(w) == 0:\n",
    "            continue\n",
    "\n",
    "        if re.search(u'[\\u4e00-\\u9fff]', w):\n",
    "            ch_string += w\n",
    "            if len(ch_string) >= ch_buffer_limit:\n",
    "                #print(ch_string)\n",
    "                #print(translate(t2s_conv.convert(ch_string)))\n",
    "                #en_words.append(t2s_conv.convert(ch_string))\n",
    "                \n",
    "                word = t2s_conv.convert(ch_string)\n",
    "                act_len = len(sp.EncodeAsIds(word.strip()))\n",
    "                if act_len not in TRANS_MAP:\n",
    "                    TRANS_MAP[act_len] = {}\n",
    "                \n",
    "                word = t2s_conv.convert(ch_string)\n",
    "                if word not in TRANS_MAP[act_len]:\n",
    "                    TRANS_MAP[act_len][word] = {'en': '', 'ixs':[]}\n",
    "                \n",
    "                TRANS_MAP[act_len][word]['ixs'].append((sent_index, len(en_words)))\n",
    "                \n",
    "                \n",
    "                en_words.append('UNK')\n",
    "                ch_string = ''\n",
    "\n",
    "        else:\n",
    "            if len(ch_string) > 0:\n",
    "                #print(ch_string)\n",
    "                #print(translate(t2s_conv.convert(ch_string)))\n",
    "                #en_words.append(t2s_conv.convert(ch_string))\n",
    "                \n",
    "                word = t2s_conv.convert(ch_string)\n",
    "                act_len = len(sp.EncodeAsIds(word.strip()))\n",
    "                if act_len not in TRANS_MAP:\n",
    "                    TRANS_MAP[act_len] = {}\n",
    "                \n",
    "                word = t2s_conv.convert(ch_string)\n",
    "                if word not in TRANS_MAP[act_len]:\n",
    "                    TRANS_MAP[act_len][word] = {'en': '', 'ixs':[]}\n",
    "                \n",
    "                TRANS_MAP[act_len][word]['ixs'].append((sent_index, len(en_words)))\n",
    "                \n",
    "                en_words.append('UNK')\n",
    "                ch_string = ''\n",
    "            else:\n",
    "                en_words.append(w)\n",
    "\n",
    "    if len(ch_string) > 0:\n",
    "        #print(translate(t2s_conv.convert(ch_string)))\n",
    "        #en_words.append(t2s_conv.convert(ch_string))\n",
    "        \n",
    "        word = t2s_conv.convert(ch_string)\n",
    "        act_len = len(sp.EncodeAsIds(word.strip()))\n",
    "        if act_len not in TRANS_MAP:\n",
    "            TRANS_MAP[act_len] = {}\n",
    "\n",
    "        word = t2s_conv.convert(ch_string)\n",
    "        if word not in TRANS_MAP[act_len]:\n",
    "            TRANS_MAP[act_len][word] = {'en': '', 'ixs':[]}\n",
    "\n",
    "        TRANS_MAP[act_len][word]['ixs'].append((sent_index, len(en_words)))\n",
    "        \n",
    "        en_words.append('UNK')\n",
    "        \n",
    "#     global global_cnt\n",
    "#     global_cnt += 1\n",
    "#     print(global_cnt)\n",
    "    return en_words\n",
    "\n",
    "#print(apply_translate(df_para_tcn.clean.iloc[3]))"
   ]
  },
  {
   "cell_type": "code",
   "execution_count": 21,
   "metadata": {},
   "outputs": [
    {
     "data": {
      "text/plain": [
       "'OPPO A75 A75s A73 手机壳 软壳 挂绳壳 大眼兔硅胶壳'"
      ]
     },
     "execution_count": 21,
     "metadata": {},
     "output_type": "execute_result"
    }
   ],
   "source": [
    "df_para_tcn.clean[0]"
   ]
  },
  {
   "cell_type": "code",
   "execution_count": 84,
   "metadata": {},
   "outputs": [
    {
     "name": "stderr",
     "output_type": "stream",
     "text": [
      "\n",
      "0it [00:00, ?it/s]\u001b[A\n",
      "62it [00:00, 619.98it/s]\u001b[A\n",
      "136it [00:00, 651.10it/s]\u001b[A\n",
      "208it [00:00, 668.39it/s]\u001b[A\n",
      "280it [00:00, 682.64it/s]\u001b[A\n",
      "351it [00:00, 690.50it/s]\u001b[A\n",
      "422it [00:00, 696.21it/s]\u001b[A\n",
      "491it [00:00, 692.84it/s]\u001b[A\n",
      "559it [00:00, 686.39it/s]\u001b[A\n",
      "631it [00:00, 695.67it/s]\u001b[A\n",
      "701it [00:01, 695.67it/s]\u001b[A\n",
      "770it [00:01, 691.18it/s]\u001b[A\n",
      "842it [00:01, 697.39it/s]\u001b[A\n",
      "912it [00:01, 695.38it/s]\u001b[A\n",
      "1000it [00:01, 695.76it/s][A"
     ]
    },
    {
     "name": "stdout",
     "output_type": "stream",
     "text": [
      "1000\n"
     ]
    },
    {
     "name": "stderr",
     "output_type": "stream",
     "text": [
      "\n"
     ]
    }
   ],
   "source": [
    "from tqdm import tqdm\n",
    "to_rep = []\n",
    "for i, sent in tqdm(enumerate(df_para_tcn.clean)):\n",
    "    to_rep.append(apply_translate(sent, i))\n",
    "    \n",
    "#print(TRANS_MAP)\n",
    "\n",
    "print(len(to_rep))"
   ]
  },
  {
   "cell_type": "code",
   "execution_count": 85,
   "metadata": {},
   "outputs": [
    {
     "name": "stdout",
     "output_type": "stream",
     "text": [
      "1097\n",
      "394\n",
      "1454\n",
      "49\n",
      "46\n",
      "4\n"
     ]
    }
   ],
   "source": [
    "for sz in TRANS_MAP:\n",
    "    print(len(TRANS_MAP[sz].keys()))"
   ]
  },
  {
   "cell_type": "code",
   "execution_count": 86,
   "metadata": {},
   "outputs": [
    {
     "name": "stderr",
     "output_type": "stream",
     "text": [
      "\n",
      "  0%|          | 0/18 [00:00<?, ?it/s]\u001b[A\n",
      "  6%|▌         | 1/18 [00:17<05:05, 17.96s/it]\u001b[A\n",
      " 11%|█         | 2/18 [00:36<04:48, 18.05s/it]\u001b[A\n",
      " 17%|█▋        | 3/18 [00:54<04:31, 18.08s/it]\u001b[A"
     ]
    },
    {
     "ename": "KeyboardInterrupt",
     "evalue": "",
     "output_type": "error",
     "traceback": [
      "\u001b[0;31m---------------------------------------------------------------------------\u001b[0m",
      "\u001b[0;31mKeyboardInterrupt\u001b[0m                         Traceback (most recent call last)",
      "\u001b[0;32m<ipython-input-86-de057caf1132>\u001b[0m in \u001b[0;36m<module>\u001b[0;34m\u001b[0m\n\u001b[1;32m     11\u001b[0m         \u001b[0;31m#print(chs[st:st+BATCH_SIZE])\u001b[0m\u001b[0;34m\u001b[0m\u001b[0;34m\u001b[0m\u001b[0;34m\u001b[0m\u001b[0m\n\u001b[1;32m     12\u001b[0m         \u001b[0mbase\u001b[0m \u001b[0;34m=\u001b[0m \u001b[0mchs\u001b[0m\u001b[0;34m[\u001b[0m\u001b[0mst\u001b[0m\u001b[0;34m:\u001b[0m\u001b[0mst\u001b[0m\u001b[0;34m+\u001b[0m\u001b[0mBATCH_SIZE\u001b[0m\u001b[0;34m]\u001b[0m\u001b[0;34m\u001b[0m\u001b[0;34m\u001b[0m\u001b[0m\n\u001b[0;32m---> 13\u001b[0;31m         \u001b[0mres\u001b[0m \u001b[0;34m=\u001b[0m \u001b[0mtranslate_multi\u001b[0m\u001b[0;34m(\u001b[0m\u001b[0mbase\u001b[0m\u001b[0;34m)\u001b[0m\u001b[0;34m\u001b[0m\u001b[0;34m\u001b[0m\u001b[0m\n\u001b[0m\u001b[1;32m     14\u001b[0m         \u001b[0;32mfor\u001b[0m \u001b[0mch\u001b[0m\u001b[0;34m,\u001b[0m \u001b[0men\u001b[0m \u001b[0;32min\u001b[0m \u001b[0mzip\u001b[0m\u001b[0;34m(\u001b[0m\u001b[0mbase\u001b[0m\u001b[0;34m,\u001b[0m \u001b[0mres\u001b[0m\u001b[0;34m)\u001b[0m\u001b[0;34m:\u001b[0m\u001b[0;34m\u001b[0m\u001b[0;34m\u001b[0m\u001b[0m\n\u001b[1;32m     15\u001b[0m             \u001b[0mTRANS_MAP\u001b[0m\u001b[0;34m[\u001b[0m\u001b[0msz\u001b[0m\u001b[0;34m]\u001b[0m\u001b[0;34m[\u001b[0m\u001b[0mch\u001b[0m\u001b[0;34m]\u001b[0m\u001b[0;34m[\u001b[0m\u001b[0;34m'en'\u001b[0m\u001b[0;34m]\u001b[0m \u001b[0;34m=\u001b[0m \u001b[0men\u001b[0m\u001b[0;34m\u001b[0m\u001b[0;34m\u001b[0m\u001b[0m\n",
      "\u001b[0;32m<ipython-input-54-52d9dbd214b5>\u001b[0m in \u001b[0;36mtranslate_multi\u001b[0;34m(seq_list)\u001b[0m\n\u001b[1;32m     27\u001b[0m     \u001b[0minputs\u001b[0m \u001b[0;34m=\u001b[0m \u001b[0;34m[\u001b[0m\u001b[0;32mNone\u001b[0m\u001b[0;34m,\u001b[0m \u001b[0minps\u001b[0m\u001b[0;34m]\u001b[0m\u001b[0;34m\u001b[0m\u001b[0;34m\u001b[0m\u001b[0m\n\u001b[1;32m     28\u001b[0m     \u001b[0;32mwith\u001b[0m \u001b[0mtorch\u001b[0m\u001b[0;34m.\u001b[0m\u001b[0mno_grad\u001b[0m\u001b[0;34m(\u001b[0m\u001b[0;34m)\u001b[0m\u001b[0;34m:\u001b[0m\u001b[0;34m\u001b[0m\u001b[0;34m\u001b[0m\u001b[0m\n\u001b[0;32m---> 29\u001b[0;31m         \u001b[0mprediction\u001b[0m \u001b[0;34m=\u001b[0m \u001b[0mmodel\u001b[0m\u001b[0;34m(\u001b[0m\u001b[0minputs\u001b[0m\u001b[0;34m)\u001b[0m\u001b[0;34m\u001b[0m\u001b[0;34m\u001b[0m\u001b[0m\n\u001b[0m\u001b[1;32m     30\u001b[0m \u001b[0;34m\u001b[0m\u001b[0m\n\u001b[1;32m     31\u001b[0m     \u001b[0mbatch_output\u001b[0m \u001b[0;34m=\u001b[0m \u001b[0mget_tensor_data\u001b[0m\u001b[0;34m(\u001b[0m\u001b[0mprediction\u001b[0m\u001b[0;34m)\u001b[0m\u001b[0;34m\u001b[0m\u001b[0;34m\u001b[0m\u001b[0m\n",
      "\u001b[0;32m~/virtualenvs/ml-env/lib/python3.6/site-packages/torch/nn/modules/module.py\u001b[0m in \u001b[0;36m__call__\u001b[0;34m(self, *input, **kwargs)\u001b[0m\n\u001b[1;32m    530\u001b[0m             \u001b[0mresult\u001b[0m \u001b[0;34m=\u001b[0m \u001b[0mself\u001b[0m\u001b[0;34m.\u001b[0m\u001b[0m_slow_forward\u001b[0m\u001b[0;34m(\u001b[0m\u001b[0;34m*\u001b[0m\u001b[0minput\u001b[0m\u001b[0;34m,\u001b[0m \u001b[0;34m**\u001b[0m\u001b[0mkwargs\u001b[0m\u001b[0;34m)\u001b[0m\u001b[0;34m\u001b[0m\u001b[0;34m\u001b[0m\u001b[0m\n\u001b[1;32m    531\u001b[0m         \u001b[0;32melse\u001b[0m\u001b[0;34m:\u001b[0m\u001b[0;34m\u001b[0m\u001b[0;34m\u001b[0m\u001b[0m\n\u001b[0;32m--> 532\u001b[0;31m             \u001b[0mresult\u001b[0m \u001b[0;34m=\u001b[0m \u001b[0mself\u001b[0m\u001b[0;34m.\u001b[0m\u001b[0mforward\u001b[0m\u001b[0;34m(\u001b[0m\u001b[0;34m*\u001b[0m\u001b[0minput\u001b[0m\u001b[0;34m,\u001b[0m \u001b[0;34m**\u001b[0m\u001b[0mkwargs\u001b[0m\u001b[0;34m)\u001b[0m\u001b[0;34m\u001b[0m\u001b[0;34m\u001b[0m\u001b[0m\n\u001b[0m\u001b[1;32m    533\u001b[0m         \u001b[0;32mfor\u001b[0m \u001b[0mhook\u001b[0m \u001b[0;32min\u001b[0m \u001b[0mself\u001b[0m\u001b[0;34m.\u001b[0m\u001b[0m_forward_hooks\u001b[0m\u001b[0;34m.\u001b[0m\u001b[0mvalues\u001b[0m\u001b[0;34m(\u001b[0m\u001b[0;34m)\u001b[0m\u001b[0;34m:\u001b[0m\u001b[0;34m\u001b[0m\u001b[0;34m\u001b[0m\u001b[0m\n\u001b[1;32m    534\u001b[0m             \u001b[0mhook_result\u001b[0m \u001b[0;34m=\u001b[0m \u001b[0mhook\u001b[0m\u001b[0;34m(\u001b[0m\u001b[0mself\u001b[0m\u001b[0;34m,\u001b[0m \u001b[0minput\u001b[0m\u001b[0;34m,\u001b[0m \u001b[0mresult\u001b[0m\u001b[0;34m)\u001b[0m\u001b[0;34m\u001b[0m\u001b[0;34m\u001b[0m\u001b[0m\n",
      "\u001b[0;32m~/repository/.personal/en-ch-NMT/model.py\u001b[0m in \u001b[0;36mforward\u001b[0;34m(self, inputs)\u001b[0m\n\u001b[1;32m    408\u001b[0m         \u001b[0;34m[\u001b[0m\u001b[0mquestion\u001b[0m\u001b[0;34m,\u001b[0m \u001b[0manswer\u001b[0m\u001b[0;34m]\u001b[0m \u001b[0;34m=\u001b[0m \u001b[0minputs\u001b[0m\u001b[0;34m\u001b[0m\u001b[0;34m\u001b[0m\u001b[0m\n\u001b[1;32m    409\u001b[0m         \u001b[0;32mif\u001b[0m \u001b[0mquestion\u001b[0m \u001b[0;32mis\u001b[0m \u001b[0;32mNone\u001b[0m\u001b[0;34m:\u001b[0m\u001b[0;34m\u001b[0m\u001b[0;34m\u001b[0m\u001b[0m\n\u001b[0;32m--> 410\u001b[0;31m             \u001b[0;32mreturn\u001b[0m \u001b[0mself\u001b[0m\u001b[0;34m.\u001b[0m\u001b[0minference\u001b[0m\u001b[0;34m(\u001b[0m\u001b[0manswer\u001b[0m\u001b[0;34m)\u001b[0m\u001b[0;34m\u001b[0m\u001b[0;34m\u001b[0m\u001b[0m\n\u001b[0m\u001b[1;32m    411\u001b[0m         \u001b[0mquestion_source\u001b[0m \u001b[0;34m=\u001b[0m \u001b[0mquestion\u001b[0m\u001b[0;34m[\u001b[0m\u001b[0;34m:\u001b[0m\u001b[0;34m,\u001b[0m \u001b[0;36m0\u001b[0m\u001b[0;34m:\u001b[0m\u001b[0;34m-\u001b[0m\u001b[0;36m1\u001b[0m\u001b[0;34m]\u001b[0m\u001b[0;34m\u001b[0m\u001b[0;34m\u001b[0m\u001b[0m\n\u001b[1;32m    412\u001b[0m         \u001b[0mquestion_target\u001b[0m \u001b[0;34m=\u001b[0m \u001b[0mquestion\u001b[0m\u001b[0;34m[\u001b[0m\u001b[0;34m:\u001b[0m\u001b[0;34m,\u001b[0m \u001b[0;36m1\u001b[0m\u001b[0;34m:\u001b[0m\u001b[0;34m]\u001b[0m\u001b[0;34m\u001b[0m\u001b[0;34m\u001b[0m\u001b[0m\n",
      "\u001b[0;32m~/repository/.personal/en-ch-NMT/model.py\u001b[0m in \u001b[0;36minference\u001b[0;34m(self, answer)\u001b[0m\n\u001b[1;32m    463\u001b[0m             \u001b[0mprediction\u001b[0m \u001b[0;34m=\u001b[0m \u001b[0mF\u001b[0m\u001b[0;34m.\u001b[0m\u001b[0msoftmax\u001b[0m\u001b[0;34m(\u001b[0m\u001b[0mself\u001b[0m\u001b[0;34m.\u001b[0m\u001b[0moutput\u001b[0m\u001b[0;34m(\u001b[0m\u001b[0mhidden\u001b[0m\u001b[0;34m)\u001b[0m\u001b[0;34m,\u001b[0m \u001b[0;34m-\u001b[0m\u001b[0;36m1\u001b[0m\u001b[0;34m)\u001b[0m\u001b[0;34m\u001b[0m\u001b[0;34m\u001b[0m\u001b[0m\n\u001b[1;32m    464\u001b[0m             \u001b[0mtarget\u001b[0m \u001b[0;34m=\u001b[0m \u001b[0mtorch\u001b[0m\u001b[0;34m.\u001b[0m\u001b[0margmax\u001b[0m\u001b[0;34m(\u001b[0m\u001b[0mprediction\u001b[0m\u001b[0;34m,\u001b[0m \u001b[0;34m-\u001b[0m\u001b[0;36m1\u001b[0m\u001b[0;34m)\u001b[0m\u001b[0;34m\u001b[0m\u001b[0;34m\u001b[0m\u001b[0m\n\u001b[0;32m--> 465\u001b[0;31m             \u001b[0moutputs\u001b[0m\u001b[0;34m.\u001b[0m\u001b[0mappend\u001b[0m\u001b[0;34m(\u001b[0m\u001b[0mget_tensor_data\u001b[0m\u001b[0;34m(\u001b[0m\u001b[0mtarget\u001b[0m\u001b[0;34m)\u001b[0m\u001b[0;34m)\u001b[0m\u001b[0;34m\u001b[0m\u001b[0;34m\u001b[0m\u001b[0m\n\u001b[0m\u001b[1;32m    466\u001b[0m             \u001b[0mtarget\u001b[0m \u001b[0;34m=\u001b[0m \u001b[0mtarget\u001b[0m\u001b[0;34m.\u001b[0m\u001b[0mview\u001b[0m\u001b[0;34m(\u001b[0m\u001b[0;34m-\u001b[0m\u001b[0;36m1\u001b[0m\u001b[0;34m,\u001b[0m \u001b[0;36m1\u001b[0m\u001b[0;34m)\u001b[0m\u001b[0;34m\u001b[0m\u001b[0;34m\u001b[0m\u001b[0m\n\u001b[1;32m    467\u001b[0m             \u001b[0mtarget_embedding\u001b[0m \u001b[0;34m=\u001b[0m \u001b[0mself\u001b[0m\u001b[0;34m.\u001b[0m\u001b[0mencoder\u001b[0m\u001b[0;34m.\u001b[0m\u001b[0membedding\u001b[0m\u001b[0;34m(\u001b[0m\u001b[0mtarget\u001b[0m\u001b[0;34m)\u001b[0m\u001b[0;34m\u001b[0m\u001b[0;34m\u001b[0m\u001b[0m\n",
      "\u001b[0;32m~/repository/.personal/en-ch-NMT/torchUtils.py\u001b[0m in \u001b[0;36mget_tensor_data\u001b[0;34m(tensor, is_gpu)\u001b[0m\n\u001b[1;32m     15\u001b[0m \u001b[0;32mdef\u001b[0m \u001b[0mget_tensor_data\u001b[0m\u001b[0;34m(\u001b[0m\u001b[0mtensor\u001b[0m\u001b[0;34m,\u001b[0m \u001b[0mis_gpu\u001b[0m\u001b[0;34m=\u001b[0m\u001b[0;32mTrue\u001b[0m\u001b[0;34m)\u001b[0m\u001b[0;34m:\u001b[0m\u001b[0;34m\u001b[0m\u001b[0;34m\u001b[0m\u001b[0m\n\u001b[1;32m     16\u001b[0m     \u001b[0;32mif\u001b[0m \u001b[0mis_gpu\u001b[0m\u001b[0;34m:\u001b[0m\u001b[0;34m\u001b[0m\u001b[0;34m\u001b[0m\u001b[0m\n\u001b[0;32m---> 17\u001b[0;31m         \u001b[0;32mreturn\u001b[0m \u001b[0mtensor\u001b[0m\u001b[0;34m.\u001b[0m\u001b[0mdata\u001b[0m\u001b[0;34m.\u001b[0m\u001b[0mcpu\u001b[0m\u001b[0;34m(\u001b[0m\u001b[0;34m)\u001b[0m\u001b[0;34m.\u001b[0m\u001b[0mnumpy\u001b[0m\u001b[0;34m(\u001b[0m\u001b[0;34m)\u001b[0m\u001b[0;34m\u001b[0m\u001b[0;34m\u001b[0m\u001b[0m\n\u001b[0m\u001b[1;32m     18\u001b[0m     \u001b[0;32mreturn\u001b[0m \u001b[0mtensor\u001b[0m\u001b[0;34m.\u001b[0m\u001b[0mdata\u001b[0m\u001b[0;34m.\u001b[0m\u001b[0mnumpy\u001b[0m\u001b[0;34m(\u001b[0m\u001b[0;34m)\u001b[0m\u001b[0;34m\u001b[0m\u001b[0;34m\u001b[0m\u001b[0m\n\u001b[1;32m     19\u001b[0m \u001b[0;34m\u001b[0m\u001b[0m\n",
      "\u001b[0;31mKeyboardInterrupt\u001b[0m: "
     ]
    }
   ],
   "source": [
    "BATCH_SIZE = 64\n",
    "\n",
    "import math\n",
    "for sz in TRANS_MAP:\n",
    "    #print(sz)\n",
    "    chs = list(TRANS_MAP[sz].keys())\n",
    "    \n",
    "    cnt = math.ceil(len(chs)/BATCH_SIZE)\n",
    "    for i in tqdm(range(cnt)):\n",
    "        st = i*BATCH_SIZE\n",
    "        #print(chs[st:st+BATCH_SIZE])\n",
    "        base = chs[st:st+BATCH_SIZE]\n",
    "        res = translate_multi(base)\n",
    "        for ch, en in zip(base, res):\n",
    "            TRANS_MAP[sz][ch]['en'] = en"
   ]
  },
  {
   "cell_type": "code",
   "execution_count": 74,
   "metadata": {},
   "outputs": [
    {
     "name": "stderr",
     "output_type": "stream",
     "text": [
      "100%|██████████| 7906/7906 [00:00<00:00, 345048.20it/s]\n",
      "100%|██████████| 3860/3860 [00:00<00:00, 248625.78it/s]\n",
      "100%|██████████| 2715/2715 [00:00<00:00, 581352.63it/s]\n",
      "100%|██████████| 134/134 [00:00<00:00, 91746.12it/s]\n",
      "100%|██████████| 322/322 [00:00<00:00, 381300.36it/s]\n",
      "100%|██████████| 26/26 [00:00<00:00, 13354.38it/s]\n",
      "100%|██████████| 1/1 [00:00<00:00, 11366.68it/s]\n",
      "100%|██████████| 2/2 [00:00<00:00, 21620.12it/s]\n"
     ]
    }
   ],
   "source": [
    "# apply\n",
    "\n",
    "for sz in TRANS_MAP:\n",
    "    for ch in tqdm(TRANS_MAP[sz], position=0, leave=True):\n",
    "        for s_ix, w_ix in TRANS_MAP[sz][ch]['ixs']:\n",
    "            assert(to_rep[s_ix][w_ix] == 'UNK')\n",
    "            to_rep[s_ix][w_ix] = TRANS_MAP[sz][ch]['en']\n",
    "            \n"
   ]
  },
  {
   "cell_type": "code",
   "execution_count": 77,
   "metadata": {},
   "outputs": [],
   "source": [
    "df_final = pd.DataFrame(data=[' '.join(words) for words in to_rep], columns=['translation_output'])"
   ]
  },
  {
   "cell_type": "code",
   "execution_count": 82,
   "metadata": {},
   "outputs": [
    {
     "data": {
      "text/plain": [
       "0       【 PolarStar 】 The beautiful No.  Warmer  ...a ...\n",
       "1                     ~    The Pearl hand  The hand chain\n",
       "2                Powder crystal  Purely lit Silver Mines \n",
       "3                  3M SCOTCH VHB Super powerful     V1808\n",
       "4                                                    * 4 \n",
       "                              ...                        \n",
       "9995                RAINS BACKPACK Backback backpack     \n",
       "9996             Airwalk Shadow shoes    A823230180 no002\n",
       "9997                         NORNS 【  5000mAh   (   】    \n",
       "9998                 DERWENT     12  6B - 4H ) ,  * 34214\n",
       "9999                                    Borofone BE11    \n",
       "Name: translation_output, Length: 10000, dtype: object"
      ]
     },
     "execution_count": 82,
     "metadata": {},
     "output_type": "execute_result"
    }
   ],
   "source": [
    "df_final.translation_output"
   ]
  },
  {
   "cell_type": "code",
   "execution_count": 88,
   "metadata": {},
   "outputs": [
    {
     "data": {
      "text/plain": [
       "0      Oppo A75 A75S A73 Phone Case Soft Rabbit Silic...\n",
       "1              SOFT 99 Coating Car Wax Strong Water Watt\n",
       "2                  Low Sugar Mango Dry 250g Be The Royal\n",
       "3      * the culture Japan Imported Round Top Space C...\n",
       "4      Hello Kitty Sandals Shoes White/Red Children n...\n",
       "                             ...                        \n",
       "995    Hippored Torn Fun Unique Style Straight Jeans ...\n",
       "996    Kids Set Table Bay - Thin Long Sleeve Home Sui...\n",
       "997    LONGCHAMP Le Pliage Neo High Density Nylon Bac...\n",
       "998    IFairies Opening Adjustable Ring ifairies [564...\n",
       "999    PolarStar Women Sweat Quick Dry T-shirt Black ...\n",
       "Name: translation_output, Length: 1000, dtype: object"
      ]
     },
     "execution_count": 88,
     "metadata": {},
     "output_type": "execute_result"
    }
   ],
   "source": [
    "df_para_en.translation_output"
   ]
  },
  {
   "cell_type": "code",
   "execution_count": 10,
   "metadata": {},
   "outputs": [
    {
     "name": "stderr",
     "output_type": "stream",
     "text": [
      "Building prefix dict from the default dictionary ...\n",
      "Loading model from cache /tmp/jieba.cache\n",
      "Loading model cost 0.446 seconds.\n",
      "Prefix dict has been built successfully.\n"
     ]
    },
    {
     "name": "stdout",
     "output_type": "stream",
     "text": [
      "1\n",
      "2\n",
      "3\n",
      "4\n",
      "5\n",
      "6\n",
      "7\n",
      "8\n",
      "9\n",
      "10\n",
      "11\n",
      "12\n",
      "13\n",
      "14\n",
      "15\n",
      "16\n",
      "17\n",
      "18\n",
      "19\n",
      "20\n",
      "21\n",
      "22\n",
      "23\n",
      "24\n",
      "25\n",
      "26\n",
      "27\n",
      "28\n",
      "29\n",
      "30\n",
      "31\n",
      "32\n",
      "33\n",
      "34\n",
      "35\n",
      "36\n",
      "37\n",
      "38\n",
      "39\n",
      "40\n",
      "41\n",
      "42\n",
      "43\n",
      "44\n",
      "45\n",
      "46\n",
      "47\n",
      "48\n",
      "49\n",
      "50\n",
      "51\n",
      "52\n",
      "53\n",
      "54\n",
      "55\n",
      "56\n",
      "57\n",
      "58\n",
      "59\n",
      "60\n",
      "61\n",
      "62\n",
      "63\n",
      "64\n",
      "65\n",
      "66\n",
      "67\n",
      "68\n",
      "69\n",
      "70\n",
      "71\n",
      "72\n",
      "73\n",
      "74\n",
      "75\n",
      "76\n",
      "77\n",
      "78\n",
      "79\n",
      "80\n",
      "81\n",
      "82\n",
      "83\n",
      "84\n",
      "85\n",
      "86\n",
      "87\n",
      "88\n",
      "89\n",
      "90\n",
      "91\n",
      "92\n",
      "93\n",
      "94\n",
      "95\n",
      "96\n",
      "97\n",
      "98\n",
      "99\n",
      "100\n",
      "101\n",
      "102\n",
      "103\n",
      "104\n",
      "105\n",
      "106\n",
      "107\n",
      "108\n",
      "109\n",
      "110\n",
      "111\n",
      "112\n",
      "113\n",
      "114\n",
      "115\n",
      "116\n",
      "117\n",
      "118\n",
      "119\n",
      "120\n",
      "121\n",
      "122\n",
      "123\n",
      "124\n",
      "125\n",
      "126\n",
      "127\n",
      "128\n",
      "129\n",
      "130\n",
      "131\n",
      "132\n",
      "133\n",
      "134\n",
      "135\n",
      "136\n",
      "137\n",
      "138\n",
      "139\n",
      "140\n",
      "141\n",
      "142\n",
      "143\n",
      "144\n",
      "145\n",
      "146\n",
      "147\n",
      "148\n",
      "149\n",
      "150\n",
      "151\n",
      "152\n",
      "153\n",
      "154\n",
      "155\n",
      "156\n",
      "157\n",
      "158\n",
      "159\n",
      "160\n",
      "161\n",
      "162\n",
      "163\n",
      "164\n",
      "165\n",
      "166\n",
      "167\n",
      "168\n",
      "169\n",
      "170\n",
      "171\n",
      "172\n",
      "173\n",
      "174\n",
      "175\n",
      "176\n",
      "177\n",
      "178\n",
      "179\n",
      "180\n",
      "181\n",
      "182\n",
      "183\n",
      "184\n",
      "185\n",
      "186\n",
      "187\n",
      "188\n",
      "189\n",
      "190\n",
      "191\n",
      "192\n",
      "193\n",
      "194\n",
      "195\n",
      "196\n",
      "197\n",
      "198\n",
      "199\n",
      "200\n",
      "201\n",
      "202\n",
      "203\n",
      "204\n",
      "205\n",
      "206\n",
      "207\n",
      "208\n",
      "209\n",
      "210\n",
      "211\n",
      "212\n",
      "213\n",
      "214\n",
      "215\n",
      "216\n",
      "217\n",
      "218\n",
      "219\n",
      "220\n",
      "221\n",
      "222\n",
      "223\n",
      "224\n",
      "225\n",
      "226\n",
      "227\n",
      "228\n",
      "229\n",
      "230\n",
      "231\n",
      "232\n",
      "233\n",
      "234\n",
      "235\n",
      "236\n",
      "237\n",
      "238\n",
      "239\n",
      "240\n",
      "241\n",
      "242\n",
      "243\n",
      "244\n",
      "245\n",
      "246\n",
      "247\n",
      "248\n",
      "249\n",
      "250\n",
      "251\n",
      "252\n",
      "253\n",
      "254\n",
      "255\n",
      "256\n",
      "257\n",
      "258\n",
      "259\n",
      "260\n",
      "261\n",
      "262\n",
      "263\n",
      "264\n",
      "265\n",
      "266\n",
      "267\n",
      "268\n",
      "269\n",
      "270\n",
      "271\n",
      "272\n",
      "273\n",
      "274\n",
      "275\n",
      "276\n",
      "277\n",
      "278\n",
      "279\n",
      "280\n",
      "281\n",
      "282\n",
      "283\n",
      "284\n",
      "285\n",
      "286\n",
      "287\n",
      "288\n",
      "289\n",
      "290\n",
      "291\n",
      "292\n",
      "293\n",
      "294\n",
      "295\n",
      "296\n",
      "297\n",
      "298\n",
      "299\n",
      "300\n",
      "301\n",
      "302\n",
      "303\n",
      "304\n",
      "305\n",
      "306\n",
      "307\n",
      "308\n",
      "309\n",
      "310\n",
      "311\n",
      "312\n",
      "313\n",
      "314\n",
      "315\n",
      "316\n",
      "317\n",
      "318\n",
      "319\n",
      "320\n",
      "321\n",
      "322\n",
      "323\n",
      "324\n",
      "325\n",
      "326\n",
      "327\n",
      "328\n",
      "329\n",
      "330\n",
      "331\n",
      "332\n",
      "333\n",
      "334\n",
      "335\n",
      "336\n",
      "337\n",
      "338\n",
      "339\n",
      "340\n",
      "341\n",
      "342\n",
      "343\n",
      "344\n",
      "345\n",
      "346\n",
      "347\n",
      "348\n",
      "349\n",
      "350\n",
      "351\n",
      "352\n",
      "353\n",
      "354\n",
      "355\n",
      "356\n",
      "357\n",
      "358\n",
      "359\n",
      "360\n",
      "361\n",
      "362\n",
      "363\n",
      "364\n",
      "365\n",
      "366\n",
      "367\n",
      "368\n",
      "369\n",
      "370\n",
      "371\n",
      "372\n",
      "373\n",
      "374\n",
      "375\n",
      "376\n",
      "377\n",
      "378\n",
      "379\n",
      "380\n",
      "381\n",
      "382\n",
      "383\n",
      "384\n",
      "385\n",
      "386\n",
      "387\n",
      "388\n",
      "389\n",
      "390\n",
      "391\n",
      "392\n",
      "393\n",
      "394\n",
      "395\n",
      "396\n",
      "397\n",
      "398\n",
      "399\n",
      "400\n",
      "401\n",
      "402\n",
      "403\n",
      "404\n",
      "405\n",
      "406\n",
      "407\n",
      "408\n",
      "409\n",
      "410\n",
      "411\n",
      "412\n",
      "413\n",
      "414\n",
      "415\n",
      "416\n",
      "417\n",
      "418\n",
      "419\n",
      "420\n",
      "421\n",
      "422\n",
      "423\n",
      "424\n",
      "425\n",
      "426\n",
      "427\n",
      "428\n",
      "429\n",
      "430\n",
      "431\n",
      "432\n",
      "433\n",
      "434\n",
      "435\n",
      "436\n",
      "437\n",
      "438\n",
      "439\n",
      "440\n",
      "441\n",
      "442\n",
      "443\n",
      "444\n",
      "445\n",
      "446\n",
      "447\n",
      "448\n",
      "449\n",
      "450\n",
      "451\n",
      "452\n",
      "453\n",
      "454\n",
      "455\n",
      "456\n",
      "457\n",
      "458\n",
      "459\n",
      "460\n",
      "461\n",
      "462\n",
      "463\n",
      "464\n",
      "465\n",
      "466\n",
      "467\n",
      "468\n",
      "469\n",
      "470\n",
      "471\n",
      "472\n",
      "473\n",
      "474\n",
      "475\n",
      "476\n",
      "477\n",
      "478\n",
      "479\n",
      "480\n",
      "481\n",
      "482\n",
      "483\n",
      "484\n",
      "485\n",
      "486\n",
      "487\n",
      "488\n",
      "489\n",
      "490\n",
      "491\n",
      "492\n",
      "493\n",
      "494\n",
      "495\n",
      "496\n",
      "497\n",
      "498\n",
      "499\n",
      "500\n",
      "501\n",
      "502\n",
      "503\n",
      "504\n",
      "505\n",
      "506\n",
      "507\n",
      "508\n",
      "509\n",
      "510\n",
      "511\n",
      "512\n",
      "513\n",
      "514\n",
      "515\n",
      "516\n",
      "517\n",
      "518\n",
      "519\n",
      "520\n",
      "521\n",
      "522\n",
      "523\n",
      "524\n",
      "525\n",
      "526\n",
      "527\n",
      "528\n",
      "529\n",
      "530\n",
      "531\n",
      "532\n",
      "533\n",
      "534\n",
      "535\n",
      "536\n",
      "537\n",
      "538\n",
      "539\n",
      "540\n",
      "541\n",
      "542\n",
      "543\n",
      "544\n",
      "545\n",
      "546\n",
      "547\n",
      "548\n",
      "549\n",
      "550\n",
      "551\n",
      "552\n",
      "553\n",
      "554\n",
      "555\n",
      "556\n",
      "557\n",
      "558\n",
      "559\n",
      "560\n",
      "561\n",
      "562\n",
      "563\n",
      "564\n",
      "565\n",
      "566\n",
      "567\n",
      "568\n",
      "569\n",
      "570\n",
      "571\n",
      "572\n",
      "573\n",
      "574\n",
      "575\n",
      "576\n",
      "577\n",
      "578\n",
      "579\n",
      "580\n",
      "581\n",
      "582\n",
      "583\n",
      "584\n",
      "585\n",
      "586\n",
      "587\n",
      "588\n",
      "589\n",
      "590\n",
      "591\n",
      "592\n",
      "593\n",
      "594\n",
      "595\n",
      "596\n",
      "597\n",
      "598\n",
      "599\n",
      "600\n",
      "601\n",
      "602\n",
      "603\n",
      "604\n",
      "605\n",
      "606\n",
      "607\n",
      "608\n",
      "609\n",
      "610\n",
      "611\n",
      "612\n",
      "613\n",
      "614\n",
      "615\n",
      "616\n",
      "617\n",
      "618\n",
      "619\n",
      "620\n",
      "621\n",
      "622\n",
      "623\n",
      "624\n",
      "625\n",
      "626\n",
      "627\n",
      "628\n",
      "629\n",
      "630\n",
      "631\n",
      "632\n",
      "633\n",
      "634\n",
      "635\n",
      "636\n",
      "637\n",
      "638\n",
      "639\n",
      "640\n",
      "641\n",
      "642\n",
      "643\n",
      "644\n",
      "645\n",
      "646\n",
      "647\n",
      "648\n",
      "649\n",
      "650\n",
      "651\n",
      "652\n",
      "653\n",
      "654\n",
      "655\n",
      "656\n",
      "657\n",
      "658\n",
      "659\n",
      "660\n",
      "661\n",
      "662\n",
      "663\n",
      "664\n",
      "665\n",
      "666\n",
      "667\n",
      "668\n",
      "669\n",
      "670\n",
      "671\n",
      "672\n",
      "673\n",
      "674\n",
      "675\n",
      "676\n",
      "677\n",
      "678\n",
      "679\n",
      "680\n",
      "681\n",
      "682\n",
      "683\n",
      "684\n",
      "685\n",
      "686\n",
      "687\n",
      "688\n",
      "689\n",
      "690\n",
      "691\n",
      "692\n",
      "693\n",
      "694\n",
      "695\n",
      "696\n",
      "697\n",
      "698\n",
      "699\n",
      "700\n",
      "701\n",
      "702\n",
      "703\n",
      "704\n",
      "705\n",
      "706\n",
      "707\n",
      "708\n",
      "709\n",
      "710\n",
      "711\n",
      "712\n",
      "713\n",
      "714\n",
      "715\n",
      "716\n",
      "717\n",
      "718\n",
      "719\n",
      "720\n",
      "721\n",
      "722\n",
      "723\n",
      "724\n",
      "725\n",
      "726\n",
      "727\n",
      "728\n",
      "729\n",
      "730\n",
      "731\n",
      "732\n",
      "733\n",
      "734\n",
      "735\n",
      "736\n",
      "737\n",
      "738\n",
      "739\n",
      "740\n",
      "741\n",
      "742\n",
      "743\n",
      "744\n",
      "745\n",
      "746\n",
      "747\n",
      "748\n",
      "749\n",
      "750\n",
      "751\n",
      "752\n",
      "753\n",
      "754\n",
      "755\n",
      "756\n",
      "757\n",
      "758\n",
      "759\n",
      "760\n",
      "761\n",
      "762\n",
      "763\n",
      "764\n",
      "765\n",
      "766\n",
      "767\n",
      "768\n",
      "769\n",
      "770\n",
      "771\n",
      "772\n",
      "773\n",
      "774\n",
      "775\n",
      "776\n",
      "777\n",
      "778\n",
      "779\n",
      "780\n",
      "781\n",
      "782\n",
      "783\n",
      "784\n",
      "785\n",
      "786\n",
      "787\n",
      "788\n",
      "789\n",
      "790\n",
      "791\n",
      "792\n",
      "793\n",
      "794\n",
      "795\n",
      "796\n",
      "797\n",
      "798\n",
      "799\n",
      "800\n",
      "801\n",
      "802\n",
      "803\n",
      "804\n",
      "805\n",
      "806\n",
      "807\n",
      "808\n",
      "809\n",
      "810\n",
      "811\n",
      "812\n",
      "813\n",
      "814\n",
      "815\n",
      "816\n",
      "817\n",
      "818\n",
      "819\n",
      "820\n",
      "821\n",
      "822\n",
      "823\n",
      "824\n",
      "825\n",
      "826\n",
      "827\n",
      "828\n",
      "829\n",
      "830\n",
      "831\n",
      "832\n",
      "833\n",
      "834\n",
      "835\n",
      "836\n",
      "837\n",
      "838\n",
      "839\n",
      "840\n",
      "841\n",
      "842\n",
      "843\n",
      "844\n",
      "845\n",
      "846\n",
      "847\n",
      "848\n",
      "849\n",
      "850\n",
      "851\n",
      "852\n",
      "853\n",
      "854\n",
      "855\n",
      "856\n",
      "857\n",
      "858\n",
      "859\n",
      "860\n",
      "861\n",
      "862\n",
      "863\n",
      "864\n",
      "865\n",
      "866\n",
      "867\n",
      "868\n",
      "869\n",
      "870\n",
      "871\n",
      "872\n",
      "873\n",
      "874\n",
      "875\n",
      "876\n",
      "877\n",
      "878\n",
      "879\n",
      "880\n",
      "881\n",
      "882\n",
      "883\n",
      "884\n",
      "885\n",
      "886\n",
      "887\n",
      "888\n",
      "889\n",
      "890\n",
      "891\n",
      "892\n",
      "893\n",
      "894\n",
      "895\n",
      "896\n",
      "897\n",
      "898\n",
      "899\n",
      "900\n",
      "901\n",
      "902\n",
      "903\n",
      "904\n",
      "905\n",
      "906\n",
      "907\n",
      "908\n",
      "909\n",
      "910\n",
      "911\n",
      "912\n",
      "913\n",
      "914\n",
      "915\n",
      "916\n",
      "917\n",
      "918\n",
      "919\n",
      "920\n",
      "921\n",
      "922\n",
      "923\n",
      "924\n",
      "925\n",
      "926\n",
      "927\n",
      "928\n",
      "929\n",
      "930\n",
      "931\n",
      "932\n",
      "933\n",
      "934\n",
      "935\n",
      "936\n",
      "937\n",
      "938\n",
      "939\n",
      "940\n",
      "941\n",
      "942\n",
      "943\n",
      "944\n",
      "945\n",
      "946\n",
      "947\n",
      "948\n",
      "949\n",
      "950\n",
      "951\n",
      "952\n",
      "953\n",
      "954\n",
      "955\n",
      "956\n",
      "957\n",
      "958\n",
      "959\n",
      "960\n",
      "961\n",
      "962\n",
      "963\n",
      "964\n",
      "965\n",
      "966\n",
      "967\n",
      "968\n",
      "969\n",
      "970\n",
      "971\n",
      "972\n",
      "973\n",
      "974\n",
      "975\n",
      "976\n",
      "977\n",
      "978\n",
      "979\n",
      "980\n",
      "981\n",
      "982\n",
      "983\n",
      "984\n",
      "985\n",
      "986\n",
      "987\n",
      "988\n",
      "989\n",
      "990\n",
      "991\n",
      "992\n",
      "993\n",
      "994\n",
      "995\n",
      "996\n",
      "997\n",
      "998\n",
      "999\n",
      "1000\n"
     ]
    }
   ],
   "source": [
    "df_para_tcn['translation_output'] = df_para_tcn.apply(lambda x: apply_translate(x.text), axis=1)"
   ]
  },
  {
   "cell_type": "code",
   "execution_count": 11,
   "metadata": {},
   "outputs": [
    {
     "data": {
      "text/plain": [
       "0                  OPPO A75 A75s A73 手机 壳软壳 挂绳 壳大眼 兔硅胶 壳\n",
       "1                                 SOFT 99 镀膜车 蜡 强力 拨水型 )\n",
       "2                                        低糖 芒果干 250g 臻御行\n",
       "3      ＊ 小径 文化 ＊ 日本 进口 ROUND TOP space craft - diamon...\n",
       "4              Hello Kitty 凯蒂猫 KITTY 凉鞋 童鞋 白 红色 小童 no739\n",
       "                             ...                        \n",
       "995      【 HippoRed 】 撕破 乐趣 ★ 独特 风格 ★ 中直 筒牛仔裤 O591 _ 445\n",
       "996                儿童 套装 台湾 制薄 长袖 居家 套装 魔法 Baby ~ k60092\n",
       "997             LONGCHAMP Le Pliage Neo 高密 尼龙 后背包 ( 中型 )\n",
       "998    iFairies 开口 可调节 戒指 ★ ifairies 【 56472 】 【 56472 】\n",
       "999                       PolarStar 女排汗 快干 T恤 『 黑 P18102\n",
       "Name: translation_output, Length: 1000, dtype: object"
      ]
     },
     "execution_count": 11,
     "metadata": {},
     "output_type": "execute_result"
    }
   ],
   "source": [
    "df_para_tcn.translation_output"
   ]
  },
  {
   "cell_type": "code",
   "execution_count": 98,
   "metadata": {},
   "outputs": [
    {
     "data": {
      "text/plain": [
       "'White/color'"
      ]
     },
     "execution_count": 98,
     "metadata": {},
     "output_type": "execute_result"
    }
   ],
   "source": [
    "translate(t2s_conv.convert('白/紅色'))"
   ]
  },
  {
   "cell_type": "code",
   "execution_count": 74,
   "metadata": {},
   "outputs": [
    {
     "data": {
      "text/plain": [
       "'Hello Kitty Sandals Shoes White/Red Children no739'"
      ]
     },
     "execution_count": 74,
     "metadata": {},
     "output_type": "execute_result"
    }
   ],
   "source": [
    "df_para_en.clean.iloc[4]"
   ]
  },
  {
   "cell_type": "code",
   "execution_count": null,
   "metadata": {},
   "outputs": [],
   "source": []
  },
  {
   "cell_type": "code",
   "execution_count": 53,
   "metadata": {},
   "outputs": [
    {
     "data": {
      "text/plain": [
       "('The sylvanic trolley', 'Taiwan Mini-Spanel Saucer')"
      ]
     },
     "execution_count": 53,
     "metadata": {},
     "output_type": "execute_result"
    }
   ],
   "source": [
    "translate('兒童套裝 臺灣製薄長袖居家套裝 魔法'), translate('儿童套装 台湾制薄长袖居家套装 魔法')"
   ]
  },
  {
   "cell_type": "code",
   "execution_count": 56,
   "metadata": {},
   "outputs": [
    {
     "data": {
      "text/plain": [
       "(\"Children's clothing\", 'The new')"
      ]
     },
     "execution_count": 56,
     "metadata": {},
     "output_type": "execute_result"
    }
   ],
   "source": [
    "translate('兒童套裝'), translate('臺灣製薄長袖居家套裝')"
   ]
  },
  {
   "cell_type": "code",
   "execution_count": 62,
   "metadata": {},
   "outputs": [
    {
     "data": {
      "text/plain": [
       "['兒童', '套裝']"
      ]
     },
     "execution_count": 62,
     "metadata": {},
     "output_type": "execute_result"
    }
   ],
   "source": [
    "list(jieba.cut('兒童套裝'))"
   ]
  },
  {
   "cell_type": "code",
   "execution_count": 63,
   "metadata": {},
   "outputs": [
    {
     "data": {
      "text/plain": [
       "('Child of children', '...a condom of the new')"
      ]
     },
     "execution_count": 63,
     "metadata": {},
     "output_type": "execute_result"
    }
   ],
   "source": [
    "translate('兒童'), translate('套裝')"
   ]
  },
  {
   "cell_type": "code",
   "execution_count": 55,
   "metadata": {},
   "outputs": [
    {
     "data": {
      "text/plain": [
       "('Child Sets', 'Taiwan Mini-sized')"
      ]
     },
     "execution_count": 55,
     "metadata": {},
     "output_type": "execute_result"
    }
   ],
   "source": [
    "translate('儿童套装'), translate('台湾制薄长袖居家套装')"
   ]
  },
  {
   "cell_type": "code",
   "execution_count": 33,
   "metadata": {},
   "outputs": [
    {
     "data": {
      "text/plain": [
       "['OPPO',\n",
       " ' ',\n",
       " 'A75',\n",
       " ' ',\n",
       " 'A75s',\n",
       " ' ',\n",
       " 'A73',\n",
       " ' ',\n",
       " '手机',\n",
       " '壳',\n",
       " ' ',\n",
       " '软壳',\n",
       " ' ',\n",
       " '挂绳',\n",
       " '壳',\n",
       " ' ',\n",
       " '大眼',\n",
       " '兔',\n",
       " '硅胶',\n",
       " '壳']"
      ]
     },
     "execution_count": 33,
     "metadata": {},
     "output_type": "execute_result"
    }
   ],
   "source": [
    "\n",
    "\n",
    "list(jieba.cut(df_para_tcn.text[0]))"
   ]
  },
  {
   "cell_type": "code",
   "execution_count": 43,
   "metadata": {},
   "outputs": [
    {
     "name": "stdout",
     "output_type": "stream",
     "text": [
      "thunderstorm\n",
      "LT\n",
      "-\n",
      "234\n",
      "Japanese style\n",
      "Woody\n",
      "Tables and\n",
      "四十五、四十五\n",
      ".\n",
      "六十六十年\n",
      "公公公公公公公公公公公公公公公公公公公公公公公公公公公公公公公公公公公公公公公公公公公公公公公公公公公公公公公公公公公公公公公公公公公公公\n",
      "//////////////////////////////////////////////////////////////////////\n",
      "Tables of film\n"
     ]
    }
   ],
   "source": [
    "for w in jieba.cut(df_para_tcn.text[5]):\n",
    "    if w.strip() == '':\n",
    "        continue\n",
    "    \n",
    "    print(translate(w))"
   ]
  },
  {
   "cell_type": "code",
   "execution_count": 44,
   "metadata": {},
   "outputs": [
    {
     "data": {
      "text/plain": [
       "'Thunderbird Lt - 234 Japanese Wood Grain Table Mat 45 X 60 Cm / Pc'"
      ]
     },
     "execution_count": 44,
     "metadata": {},
     "output_type": "execute_result"
    }
   ],
   "source": [
    "df_para_en.clean[5]"
   ]
  },
  {
   "cell_type": "code",
   "execution_count": 168,
   "metadata": {},
   "outputs": [],
   "source": [
    "import re\n",
    "from typing import List\n",
    "\n",
    "import regex\n",
    "from sacrebleu import corpus_bleu\n",
    "\n",
    "OTHERS_PATTERN: re.Pattern = regex.compile(r'\\p{So}')\n",
    "\n",
    "\n",
    "def eval(preds: List[str], refs: List[str]) -> float:\n",
    "    \"\"\"BLEU score computation.\n",
    "\n",
    "    Strips all characters belonging to the unicode category \"So\".\n",
    "    Tokenize with standard WMT \"13a\" tokenizer.\n",
    "    Compute 4-BLEU.\n",
    "\n",
    "    Args:\n",
    "        preds (List[str]): List of translated texts.\n",
    "        refs (List[str]): List of target reference texts.\n",
    "    \"\"\"\n",
    "    preds = [OTHERS_PATTERN.sub(' ', text) for text in preds]\n",
    "    refs = [OTHERS_PATTERN.sub(' ', text) for text in refs]\n",
    "    return corpus_bleu(\n",
    "        preds, [refs],\n",
    "        lowercase=True,\n",
    "        tokenize='13a',\n",
    "        use_effective_order= False\n",
    "    ).score"
   ]
  },
  {
   "cell_type": "code",
   "execution_count": 265,
   "metadata": {},
   "outputs": [
    {
     "data": {
      "text/plain": [
       "14.907776265225817"
      ]
     },
     "execution_count": 265,
     "metadata": {},
     "output_type": "execute_result"
    }
   ],
   "source": [
    "eval(df_para_tcn.translation_output.apply(lambda x: clean_output(x)), df_para_en.translation_output)"
   ]
  },
  {
   "cell_type": "code",
   "execution_count": 264,
   "metadata": {},
   "outputs": [],
   "source": [
    "import string\n",
    "\n",
    "def clean_output(text):\n",
    "    text = text.replace('...a ', '').replace('...the ', '').replace('...', '')\n",
    "    text = text.replace('????', '').replace('?', '')\n",
    "    \n",
    "    return text\n",
    "\n",
    "#print(clean_output('Couples Short sleeves t Summer watery wash. 33 Number of figures Short sleeves t'))"
   ]
  },
  {
   "cell_type": "code",
   "execution_count": 90,
   "metadata": {},
   "outputs": [
    {
     "name": "stdout",
     "output_type": "stream",
     "text": [
      "923     厚底松糕底内增高旅游鞋原宿休闲女鞋 YX042813\n",
      "344              民歌紀念日DVD 超值卡拉OK精選\n",
      "745    禦寒保暖 名媛風一粒釦短大衣 艾爾莎【TAK6257】\n",
      "765        Fujitsu F500-256GB 固態硬碟\n",
      "984      紐頓 S6成犬 雞肉南瓜 2.72KG【寶羅寵品】\n",
      "Name: text, dtype: object\n",
      "\n",
      "['Thick Bottom Loose Bottom Travel Shoes Harajuku Shoes Yx042813', 'Folk Day Dvd Value Karaoke Picks', 'Winter Warm Ladies Wind A Button Topper Elsa 【 Tak6257 】', 'Fujitsu F500 - 256Gb SSD', 'Newton S6 Adult Dogs Chicken Pumpkin 2.72 Kg Paul Pet Products']\n"
     ]
    }
   ],
   "source": [
    "samp = df_para_tcn.text.sample(n=5)\n",
    "#print(samp.apply(lambda x: clean_output(x)).tolist())\n",
    "print(samp)\n",
    "print()\n",
    "print(df_para_en.translation_output[samp.index].tolist())\n",
    "\n",
    "#eval(samp, df_para_en.translation_output[samp.index])"
   ]
  },
  {
   "cell_type": "code",
   "execution_count": 231,
   "metadata": {},
   "outputs": [
    {
     "name": "stdout",
     "output_type": "stream",
     "text": [
      "None\n"
     ]
    }
   ],
   "source": [
    "print(re.match('[a-zA-Z0-9]\\w+(?:\\.\\w+)+', 'abc. '))"
   ]
  },
  {
   "cell_type": "code",
   "execution_count": 262,
   "metadata": {},
   "outputs": [
    {
     "data": {
      "text/plain": [
       "31.7023313852343"
      ]
     },
     "execution_count": 262,
     "metadata": {},
     "output_type": "execute_result"
    }
   ],
   "source": [
    "eval(['Roush - Slim Fit One single pocket pocket PETO shirt 715610'],\n",
    "     ['Roush - Slim Fit Single Pocket Fit Plain Shirt 715610'])"
   ]
  },
  {
   "cell_type": "code",
   "execution_count": 190,
   "metadata": {},
   "outputs": [
    {
     "name": "stdout",
     "output_type": "stream",
     "text": [
      "Japan AZZEEN Stemie ...a planter. Queen's Queen ...a dressing water. 500ml ( 2 Editions 【 UR8D 】\n",
      "Japan AZZEEN Stemie planter. Queen's Queen dressing water. 500ml ( 2 Editions 【 UR8D 】\n"
     ]
    }
   ],
   "source": [
    "print(samp[25])\n",
    "print(samp[25].replace('...a ', '').replace('...the ', '').replace('...', ''))"
   ]
  },
  {
   "cell_type": "code",
   "execution_count": 261,
   "metadata": {},
   "outputs": [],
   "source": [
    "df_para_tcn.to_csv('sample.csv', index=False)"
   ]
  },
  {
   "cell_type": "code",
   "execution_count": 277,
   "metadata": {},
   "outputs": [
    {
     "data": {
      "text/plain": [
       "10000"
      ]
     },
     "execution_count": 277,
     "metadata": {},
     "output_type": "execute_result"
    }
   ],
   "source": [
    "len(df_test)"
   ]
  },
  {
   "cell_type": "code",
   "execution_count": null,
   "metadata": {},
   "outputs": [],
   "source": []
  }
 ],
 "metadata": {
  "kernelspec": {
   "display_name": "Python 3",
   "language": "python",
   "name": "python3"
  },
  "language_info": {
   "codemirror_mode": {
    "name": "ipython",
    "version": 3
   },
   "file_extension": ".py",
   "mimetype": "text/x-python",
   "name": "python",
   "nbconvert_exporter": "python",
   "pygments_lexer": "ipython3",
   "version": "3.6.8"
  }
 },
 "nbformat": 4,
 "nbformat_minor": 4
}
